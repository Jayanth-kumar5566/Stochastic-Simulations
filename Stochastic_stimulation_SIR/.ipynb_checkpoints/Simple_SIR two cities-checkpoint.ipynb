{
 "cells": [
  {
   "cell_type": "code",
   "execution_count": 2,
   "metadata": {
    "collapsed": true
   },
   "outputs": [],
   "source": [
    "from __future__ import division\n",
    "import time\n",
    "import numpy as np\n",
    "import matplotlib\n",
    "import matplotlib.pyplot as plt\n",
    "import random\n",
    "%matplotlib inline  "
   ]
  },
  {
   "cell_type": "code",
   "execution_count": 10,
   "metadata": {
    "collapsed": true
   },
   "outputs": [],
   "source": [
    "def Gillespie_SIR(N1,N2,beta1,beta2,gamma,tr12,tr21,tmax):\n",
    "    print \"Ro of city 1\", beta1/gamma\n",
    "    print \"Ro of city 2\", beta2/gamma\n",
    "    print \"Ro final is \", \"1+Lambda*gamma (see paper)\"\n",
    "    MAX = int(1e6) #Maximum size to store the data\n",
    "    TVals   = np.zeros(MAX,dtype=float) #arrays of the max size to store values \n",
    "    S1Vals   = np.zeros(MAX,dtype=int)\n",
    "    I1Vals   = np.zeros(MAX,dtype=int)\n",
    "    S2Vals   = np.zeros(MAX,dtype=int)\n",
    "    I2Vals   = np.zeros(MAX,dtype=int)\n",
    "    R1Vals   = np.zeros(MAX,dtype=int)\n",
    "    R2Vals   = np.zeros(MAX,dtype=int)\n",
    "    \n",
    "    I1 = 1 #int(np.ceil(0.01*N1)) # Percentage of person infected from the total population\n",
    "    I2=0\n",
    "    S1 = N1-I1\n",
    "    S2 = N2-I2\n",
    "    R1 = 0\n",
    "    R2 = 0\n",
    "    t = 0.0\n",
    "    count = 0\n",
    "    I1Vals[count] = I1\n",
    "    S1Vals[count] = S1\n",
    "    I2Vals[count] = I2\n",
    "    S2Vals[count] = S2\n",
    "    R1Vals[count] = R1\n",
    "    R2Vals[count] = R2\n",
    "    \n",
    "    TVals[count] = t\n",
    "     \n",
    "    while t < tmax and I1 >= 0 and I2>=0 and count < MAX:\n",
    "        Rate_S12I1 = beta1*S1*(I1+tr21*I2) \n",
    "        Rate_I12R1 = gamma*(I1+tr21*I2) \n",
    "        Rate_S22I2 = beta2*S2*(I2+tr12*I1) \n",
    "        Rate_I22R2 = gamma*(I1+tr12*I1)\n",
    "        Rate_S22S1 = tr21*S2\n",
    "        Rate_I22I1 = tr21*I2\n",
    "        Rate_R22R1 = tr21*R2\n",
    "        Rate_S12S2 = tr12*S1\n",
    "        Rate_I12I2 = tr12*I1\n",
    "        Rate_R12R2 = tr12*R1\n",
    "        \n",
    "        K  = Rate_S12I1+Rate_I12R1+Rate_S22I2+Rate_I22R2+Rate_S22S1+Rate_I22I1+Rate_R22R1+Rate_S12S2+Rate_I12I2+Rate_R12R2\n",
    "        dt = - (1.0/K)*np.log(random.random())#Choosing dt based from exponential distribution with mean 1/K(total rate)\n",
    "                                              #random.random gives uniform distribution\n",
    "        t += dt \n",
    "        count  += 1\n",
    "        r = random.random()* K                 # Makes it easier to figure out events, \"why uniform distribution?\"\n",
    "        \n",
    "        if r < Rate_S12I1:\n",
    "            S1 -= 1\n",
    "            I1 += 1\n",
    "        elif r < Rate_S12I1+Rate_I12R1:\n",
    "            I1 -= 1\n",
    "            R1 += 1\n",
    "        elif r < Rate_S12I1+Rate_I12R1+Rate_S22I2:\n",
    "            S2 -= 1\n",
    "            I2 += 1\n",
    "        elif r < Rate_S12I1+Rate_I12R1+Rate_S22I2+Rate_I22R2:\n",
    "            I2 -= 1\n",
    "            R2 += 1\n",
    "        elif r < Rate_S12I1+Rate_I12R1+Rate_S22I2+Rate_I22R2+Rate_S22S1:\n",
    "            S2 -= 1\n",
    "            S1 += 1\n",
    "        elif r < Rate_S12I1+Rate_I12R1+Rate_S22I2+Rate_I22R2+Rate_S22S1+Rate_I22I1:\n",
    "            I2 -= 1\n",
    "            I1 += 1\n",
    "        elif r < Rate_S12I1+Rate_I12R1+Rate_S22I2+Rate_I22R2+Rate_S22S1+Rate_I22I1+Rate_R22R1:\n",
    "            R2 -= 1\n",
    "            R1 += 1\n",
    "        elif r < Rate_S12I1+Rate_I12R1+Rate_S22I2+Rate_I22R2+Rate_S22S1+Rate_I22I1+Rate_R22R1+Rate_S12S2:\n",
    "            S1 -= 1\n",
    "            S2 += 1\n",
    "        elif r < Rate_S12I1+Rate_I12R1+Rate_S22I2+Rate_I22R2+Rate_S22S1+Rate_I22I1+Rate_R22R1+Rate_S12S2+Rate_I12I2:\n",
    "            I1 -= 1\n",
    "            I2 += 1\n",
    "        else:\n",
    "            R1 -= 1\n",
    "            R2 += 1\n",
    "            \n",
    "            \n",
    "        TVals[count]  = t  \n",
    "        S1Vals[count] = S1\n",
    "        I1Vals[count] = I1\n",
    "        S2Vals[count] = S2\n",
    "        I2Vals[count] = I2\n",
    "        R1Vals[count] = R1\n",
    "        R2Vals[count] = R2\n",
    "    I1Vals = I1Vals[:count+1]\n",
    "    I2Vals = I2Vals[:count+1]\n",
    "    TVals = TVals[:count+1]\n",
    "    S1Vals = S1Vals[:count+1]\n",
    "    S2Vals = S2Vals[:count+1]\n",
    "    R1Vals = R1Vals[:count+1]\n",
    "    R2Vals = R2Vals[:count+1]\n",
    "    print 'Number of events = ',count\n",
    "    #-------------------------------------------#\n",
    "    fig,ax = plt.subplots(3,sharex=True)\n",
    "    ax[0].plot(TVals,S1Vals,'b-',label='S1')\n",
    "    ax[0].plot(TVals,I1Vals,'r-',label='I1')\n",
    "    ax[0].plot(TVals,R1Vals,'g-',label='R1')\n",
    "    ax[1].plot(TVals,S2Vals,'b-',label='S2')\n",
    "    ax[1].plot(TVals,I2Vals,'r-',label='I2')\n",
    "    ax[1].plot(TVals,R2Vals,'g-',label='R2')\n",
    "    ax[2].plot(TVals,S1Vals+S2Vals,'b-',label=\"S1+S2\")\n",
    "    ax[2].plot(TVals,I1Vals+I2Vals,'r-',label=\"I1+I2\")\n",
    "    ax[2].plot(TVals,R1Vals+R2Vals,'g-',label=\"R1+R2\")\n",
    "    ax[2].set_xlabel('time')\n",
    "    ax[1].legend(loc='best')\n",
    "    plt.show()\n",
    "    return None"
   ]
  },
  {
   "cell_type": "code",
   "execution_count": 11,
   "metadata": {
    "collapsed": false
   },
   "outputs": [
    {
     "name": "stdout",
     "output_type": "stream",
     "text": [
      "Ro of city 1 1.875\n",
      "Ro of city 2 1.25\n",
      "Ro final is  1+Lambda*gamma (see paper)\n",
      "Number of events =  37\n"
     ]
    },
    {
     "data": {
      "image/png": "[encoded data removed]",
      "text/plain": [
       "<matplotlib.figure.Figure at 0x7f920b81f450>"
      ]
     },
     "metadata": {},
     "output_type": "display_data"
    }
   ],
   "source": [
    "Gillespie_SIR(40,40,0.15,0.10,0.08,0.02,0.02,100)"
   ]
  },
  {
   "cell_type": "code",
   "execution_count": null,
   "metadata": {
    "collapsed": true
   },
   "outputs": [],
   "source": []
  }
 ],
 "metadata": {
  "kernelspec": {
   "display_name": "Python 2",
   "language": "python",
   "name": "python2"
  },
  "language_info": {
   "codemirror_mode": {
    "name": "ipython",
    "version": 2
   },
   "file_extension": ".py",
   "mimetype": "text/x-python",
   "name": "python",
   "nbconvert_exporter": "python",
   "pygments_lexer": "ipython2",
   "version": "2.7.9"
  }
 },
 "nbformat": 4,
 "nbformat_minor": 0
}
