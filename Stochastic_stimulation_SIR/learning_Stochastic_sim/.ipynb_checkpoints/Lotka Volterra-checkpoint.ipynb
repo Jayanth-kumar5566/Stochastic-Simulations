{
 "cells": [
  {
   "cell_type": "markdown",
   "metadata": {},
   "source": [
    "# Stochastic stimulation of Lotka Voltera model"
   ]
  },
  {
   "cell_type": "markdown",
   "metadata": {},
   "source": [
    "Visit: https://en.wikipedia.org/wiki/Lotka%E2%80%93Volterra_equations"
   ]
  },
  {
   "cell_type": "code",
   "execution_count": 1,
   "metadata": {
    "collapsed": false
   },
   "outputs": [],
   "source": [
    "from __future__ import division\n",
    "import numpy\n",
    "import matplotlib.pyplot as plt\n",
    "import random \n",
    "%matplotlib inline"
   ]
  },
  {
   "cell_type": "code",
   "execution_count": 5,
   "metadata": {
    "collapsed": true
   },
   "outputs": [],
   "source": [
    "def Gillepse(N,alpha,beta,delta,gamma,tmax):\n",
    "    MAX = int(1e6)\n",
    "    TVal = numpy.zeros(MAX,dtype=float)\n",
    "    PredVal= numpy.zeros(MAX,dtype=int)\n",
    "    PreyVal=numpy.zeros(MAX,dtype=int)\n",
    "    count=0    \n",
    "    #---Initial Conditions-------\n",
    "    Pred=100\n",
    "    Prey=350\n",
    "    t=0\n",
    "    #---Storing the Values------\n",
    "    TVal[count]=t\n",
    "    PredVal[count]=Pred\n",
    "    PreyVal[count]=Prey\n",
    "    #----Calculation of the rates--------\n",
    "    while t < tmax and count < MAX and Prey>0:\n",
    "        Pred_Kill_Prey= beta*Prey*Pred\n",
    "        Pred_nat_death=gamma*Pred\n",
    "        Prey_reprod=alpha*Prey\n",
    "        Pred_reprod=delta*Prey*Pred\n",
    "        \n",
    "        K=Pred_Kill_Prey+Pred_nat_death+Prey_reprod+Pred_reprod #total rate\n",
    "        \n",
    "        #-------calculation of dt----------\n",
    "        dt= -(1.0/K)*numpy.log(random.random())\n",
    "        \n",
    "        t=t+dt\n",
    "        count=count+1\n",
    "        #----Stochasticity Introduced to take decesion using uniform distribution----------------- \n",
    "        r=random.random()*K\n",
    "        \n",
    "        if r<Pred_Kill_Prey:\n",
    "            Prey -= 1\n",
    "        elif r< Pred_Kill_Prey+Pred_nat_death:\n",
    "            Pred -=1\n",
    "        elif r< Pred_Kill_Prey+Pred_nat_death+Prey_reprod:\n",
    "            Prey += 1\n",
    "        elif r< Pred_Kill_Prey+Pred_nat_death+Prey_reprod+Pred_reprod:\n",
    "            Pred +=1\n",
    "        #print count\n",
    "        #----Updating values-----\n",
    "        TVal[count]=t\n",
    "        PredVal[count]=Pred\n",
    "        PreyVal[count]=Prey\n",
    "    TVal[:count]\n",
    "    PredVal[:count]\n",
    "    PreyVal[:count]\n",
    "    print 'Number of events = ',count\n",
    "\n",
    "#---------Plotting--------------------    \n",
    "    fig,ax = plt.subplots()\n",
    "    ax.plot(TVal,PredVal,'b-',label='Predator')\n",
    "    ax.plot(TVal,PreyVal,'r-',label='Prey')\n",
    "    ax.set_xlabel('time')\n",
    "    ax.legend(loc='best')\n",
    "    plt.show()\n",
    "    #plt.plot(PredVal,PreyVal)\n",
    "    #plt.show()\n",
    "    return None\n",
    "        "
   ]
  },
  {
   "cell_type": "code",
   "execution_count": 6,
   "metadata": {
    "collapsed": false
   },
   "outputs": [
    {
     "name": "stdout",
     "output_type": "stream",
     "text": [
      "Number of events =  17760\n"
     ]
    },
    {
     "data": {
      "image/png": "[encoded data removed]",
      "text/plain": [
       "<matplotlib.figure.Figure at 0x7fc33f1bce50>"
      ]
     },
     "metadata": {},
     "output_type": "display_data"
    }
   ],
   "source": [
    "Gillepse(450,0.25,0.005,0.001,0.3,100)"
   ]
  },
  {
   "cell_type": "code",
   "execution_count": null,
   "metadata": {
    "collapsed": true
   },
   "outputs": [],
   "source": []
  }
 ],
 "metadata": {
  "kernelspec": {
   "display_name": "Python 2",
   "language": "python",
   "name": "python2"
  },
  "language_info": {
   "codemirror_mode": {
    "name": "ipython",
    "version": 2
   },
   "file_extension": ".py",
   "mimetype": "text/x-python",
   "name": "python",
   "nbconvert_exporter": "python",
   "pygments_lexer": "ipython2",
   "version": "2.7.9"
  }
 },
 "nbformat": 4,
 "nbformat_minor": 0
}
