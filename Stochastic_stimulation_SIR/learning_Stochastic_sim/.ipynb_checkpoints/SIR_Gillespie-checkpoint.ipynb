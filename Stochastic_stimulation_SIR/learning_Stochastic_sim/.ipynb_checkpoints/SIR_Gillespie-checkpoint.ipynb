{
 "cells": [
  {
   "cell_type": "markdown",
   "metadata": {},
   "source": [
    "# Gillespie simualtion of simple SIR model"
   ]
  },
  {
   "cell_type": "markdown",
   "metadata": {},
   "source": [
    "https://en.wikipedia.org/wiki/Epidemic_model "
   ]
  },
  {
   "cell_type": "code",
   "execution_count": 2,
   "metadata": {
    "collapsed": true
   },
   "outputs": [],
   "source": [
    "from __future__ import division\n",
    "import time\n",
    "import numpy as np\n",
    "import matplotlib\n",
    "import matplotlib.pyplot as plt\n",
    "import random\n",
    "%matplotlib inline  "
   ]
  },
  {
   "cell_type": "code",
   "execution_count": 3,
   "metadata": {
    "collapsed": true
   },
   "outputs": [],
   "source": [
    "def Gillespie_SIR(N,beta,gamma,tmax):\n",
    "    MAX = int(1e6) #Maximum size to store the data\n",
    "    TVals   = np.zeros(MAX,dtype=float) #arrays of the max size to store values \n",
    "    SVals   = np.zeros(MAX,dtype=int)\n",
    "    IVals   = np.zeros(MAX,dtype=int)\n",
    "    \n",
    "    I = int(np.ceil(0.01*N)) # Percentage of person infected from the total population\n",
    "    S = N-I\n",
    "    R = 0\n",
    "    t = 0.0\n",
    "    count = 0\n",
    "    IVals[count] = I\n",
    "    SVals[count] = S\n",
    "    TVals[count] = t\n",
    "     \n",
    "    while t < tmax and I > 0 and count < MAX:\n",
    "        Rate_S2I = beta*S*I #k1\n",
    "        Rate_I2R = gamma*I  #k2\n",
    "        K  = Rate_S2I + Rate_I2R #total rate\n",
    "        dt = - (1.0/K)*np.log(random.random())#Choosing dt based from exponential distribution with mean 1/K(total rate)\n",
    "                                              #random.random gives uniform distribution\n",
    "        t += dt \n",
    "        count  += 1\n",
    "        r = random.random()* K                 # Makes it easier to figure out events, \"why uniform distribution?\"\n",
    "        \n",
    "        if r < Rate_S2I:\n",
    "            S -= 1\n",
    "            I += 1\n",
    "        else:\n",
    "            I -= 1\n",
    "            R += 1\n",
    "        TVals[count]  = t  \n",
    "        SVals[count] = S\n",
    "        IVals[count] = I\n",
    "    IVals = IVals[:count+1]\n",
    "    TVals = TVals[:count+1]\n",
    "    SVals = SVals[:count+1]\n",
    "    print 'Number of events = ',count\n",
    "    #-------------------------------------------#\n",
    "    fig,ax = plt.subplots()\n",
    "    ax.plot(TVals,SVals,'b-',label='S')\n",
    "    ax.plot(TVals,IVals,'r-',label='I')\n",
    "    ax.plot(TVals,N-SVals-IVals,'g-',label='R')\n",
    "    ax.set_xlabel('time')\n",
    "    ax.legend(loc='best')\n",
    "    plt.show()\n",
    "    return None\n",
    "        "
   ]
  },
  {
   "cell_type": "code",
   "execution_count": 6,
   "metadata": {
    "collapsed": false
   },
   "outputs": [
    {
     "name": "stdout",
     "output_type": "stream",
     "text": [
      "Number of events =  1990\n"
     ]
    },
    {
     "data": {
      "image/png": "[encoded data removed]",
      "text/plain": [
       "<matplotlib.figure.Figure at 0x7f968d45e9d0>"
      ]
     },
     "metadata": {},
     "output_type": "display_data"
    }
   ],
   "source": [
    "Gillespie_SIR(1000,0.001,0.1,100)"
   ]
  },
  {
   "cell_type": "code",
   "execution_count": null,
   "metadata": {
    "collapsed": true
   },
   "outputs": [],
   "source": []
  }
 ],
 "metadata": {
  "kernelspec": {
   "display_name": "Python 2",
   "language": "python",
   "name": "python2"
  },
  "language_info": {
   "codemirror_mode": {
    "name": "ipython",
    "version": 2
   },
   "file_extension": ".py",
   "mimetype": "text/x-python",
   "name": "python",
   "nbconvert_exporter": "python",
   "pygments_lexer": "ipython2",
   "version": "2.7.9"
  }
 },
 "nbformat": 4,
 "nbformat_minor": 0
}
