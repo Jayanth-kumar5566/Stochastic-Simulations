{
 "cells": [
  {
   "cell_type": "markdown",
   "metadata": {},
   "source": [
    "# SIR model on 2 Cities with population Migration"
   ]
  },
  {
   "cell_type": "markdown",
   "metadata": {},
   "source": [
    "## Parameters"
   ]
  },
  {
   "cell_type": "markdown",
   "metadata": {},
   "source": [
    "- ### City 1\n",
    "    -  S_1 Susceptible Individuals\n",
    "    -  I_1 Infected Individuals\n",
    "    -  R_1 Recovered Individuals\n",
    "    -  $N_{1}$ Total Population of City 1\n",
    "- ### City 2\n",
    "    -  S_2 Susceptible Individuals\n",
    "    -  I_2 Infected Individuals\n",
    "    -  R_2 Recovered Individuals\n",
    "    -  $N_{2}$ Total Population of City 2\n",
    "-  $\\beta$ Transmission Rate of Infection\n",
    "-  $\\gamma$ Recovery rate \n",
    "- $\\mu$ Rate of Birth and Death\n",
    "- $\\omega$ Pathogen induced mortality rate\n",
    "- $\\zeta_{1,2}$ Migration rate from  $1 \\rightarrow 2$\n",
    "- $\\zeta_{2,1}$ Migration rate from $2 \\rightarrow 1$"
   ]
  },
  {
   "cell_type": "markdown",
   "metadata": {},
   "source": [
    "## Assumptions"
   ]
  },
  {
   "cell_type": "markdown",
   "metadata": {},
   "source": [
    "- We assume that if a person migrates then, he/she doesnot undergo death or give birth or convert from I2R"
   ]
  },
  {
   "cell_type": "markdown",
   "metadata": {},
   "source": [
    "## Equations \n",
    "### City 1"
   ]
  },
  {
   "cell_type": "markdown",
   "metadata": {},
   "source": [
    "#### Susceptible \n",
    "$$\\frac{dS_{1}}{dt}=\\mu N_{1} - \\mu S_{1} - \\beta S_{1} I_{1} -\\zeta_{2,1} \\beta S_{1} I_{2} + \\zeta_{2,1} S_{2} -\\zeta_{1,2} S_{1}$$"
   ]
  },
  {
   "cell_type": "markdown",
   "metadata": {},
   "source": [
    "#### Infected\n",
    "$$\\frac{dI_{1}}{dt}= \\beta S_{1} I_{1} -(\\mu-\\omega)I_{1} - \\gamma I_{1} + \\zeta_{2,1}I_{2} +\\zeta_{2,1} \\beta S_{1} I_{2} - \\zeta_{1,2} I_{1}$$"
   ]
  },
  {
   "cell_type": "markdown",
   "metadata": {},
   "source": [
    "#### Recovered\n",
    "$$\\frac{dR_{1}}{dt}= \\gamma I_{1} -\\mu R_{1} + \\zeta_{2,1} R_{2} - \\zeta_{1,2} R_{1} $$"
   ]
  },
  {
   "cell_type": "markdown",
   "metadata": {},
   "source": [
    "### City 2"
   ]
  },
  {
   "cell_type": "markdown",
   "metadata": {},
   "source": [
    "#### Susceptible \n",
    "$$\\frac{dS_{2}}{dt}=\\mu N_{2} - \\mu S_{2} - \\beta S_{2} I_{2} -\\zeta_{1,2} \\beta S_{2} I_{1} + \\zeta_{1,2} S_{1} - \\zeta_{2,1} S_{2}$$"
   ]
  },
  {
   "cell_type": "markdown",
   "metadata": {},
   "source": [
    "#### Infected\n",
    "$$\\frac{dI_{2}}{dt}= \\beta S_{2} I_{2} -(\\mu-\\omega)I_{2} - \\gamma I_{2} + \\zeta_{1,2}I_{1} +\\zeta_{1,2} \\beta S_{2} I_{1} - \\zeta_{2,1} I_{2}$$"
   ]
  },
  {
   "cell_type": "markdown",
   "metadata": {},
   "source": [
    "#### Recovered\n",
    "$$\\frac{dR_{2}}{dt}= \\gamma I_{2} -\\mu R_{2} + \\zeta_{1,2} R_{1} -\\zeta_{2,1} R_{2} $$"
   ]
  },
  {
   "cell_type": "markdown",
   "metadata": {},
   "source": [
    "### Constraint Equations"
   ]
  },
  {
   "cell_type": "markdown",
   "metadata": {},
   "source": [
    "$$N_{1}=S_{1}+I_{1}+R_{1},N_{2}=S_{2}+I_{2}+R_{2}$$"
   ]
  },
  {
   "cell_type": "markdown",
   "metadata": {},
   "source": [
    "$$\\frac{dN_{1}}{dt}+\\frac{dN_{2}}{dt}= 0$$"
   ]
  },
  {
   "cell_type": "markdown",
   "metadata": {},
   "source": [
    "$$\\frac{dN_{1}}{dt}=\\zeta_{2,1} N_{2} - \\zeta_{1,2} N_{1}$$"
   ]
  },
  {
   "cell_type": "markdown",
   "metadata": {
    "collapsed": true
   },
   "source": [
    "<span style=\"color:Blue\">To do:</span> The Constraint equation is not satisfied $-\\omega(I_{1}+I_{2})$ term remains"
   ]
  },
  {
   "cell_type": "markdown",
   "metadata": {},
   "source": [
    "# Simulating the above the Model"
   ]
  },
  {
   "cell_type": "code",
   "execution_count": 1,
   "metadata": {
    "collapsed": true
   },
   "outputs": [],
   "source": [
    "from __future__ import division\n",
    "import numpy\n",
    "import random \n",
    "import matplotlib.pyplot as plt\n",
    "%matplotlib inline"
   ]
  },
  {
   "cell_type": "markdown",
   "metadata": {},
   "source": [
    "## Fill up the parameters required for the simulation "
   ]
  },
  {
   "cell_type": "code",
   "execution_count": 2,
   "metadata": {
    "collapsed": true
   },
   "outputs": [],
   "source": [
    "N1 = 500\n",
    "N2 = 300\n",
    "mu = 0.8\n",
    "beta = 0.3\n",
    "gamma = 0.03\n",
    "omega = 0\n",
    "zeta12 = 0.06\n",
    "zeta21 = 0.01\n",
    "tmax = 100"
   ]
  },
  {
   "cell_type": "code",
   "execution_count": 3,
   "metadata": {
    "collapsed": false
   },
   "outputs": [
    {
     "name": "stdout",
     "output_type": "stream",
     "text": [
      "126742\n"
     ]
    },
    {
     "data": {
      "image/png": "[encoded data removed]",
      "text/plain": [
       "<matplotlib.figure.Figure at 0x7fc9d6412510>"
      ]
     },
     "metadata": {},
     "output_type": "display_data"
    }
   ],
   "source": [
    "MAX=int(1e6)\n",
    "TVal=numpy.zeros(MAX,dtype=float)\n",
    "S1Val=numpy.zeros(MAX,dtype=int)\n",
    "I1Val=numpy.zeros(MAX,dtype=int)\n",
    "R1Val=numpy.zeros(MAX,dtype=int)\n",
    "S2Val=numpy.zeros(MAX,dtype=int)\n",
    "I2Val=numpy.zeros(MAX,dtype=int)\n",
    "R2Val=numpy.zeros(MAX,dtype=int)\n",
    "\n",
    "#------------Initial Values-----------------------\n",
    "count = 0\n",
    "t=0\n",
    "\n",
    "I1    = int(0.3*N1)\n",
    "R1    = 0\n",
    "S1    = N1-I1\n",
    "I2    = 30\n",
    "R2    = 0\n",
    "S2    = N2\n",
    "\n",
    "TVal[count]=t\n",
    "S1Val[count]=S1\n",
    "I1Val[count]=I1\n",
    "R1Val[count]=R1\n",
    "S2Val[count]=S2\n",
    "I2Val[count]=I2\n",
    "R2Val[count]=R2\n",
    "\n",
    "while count < MAX and t < tmax and I1>=0 and I2>=0:\n",
    "#-----------City1---------------------------------\n",
    "    S2I_1 = beta*S1*I1 + zeta21*beta*S1*I2\n",
    "    I2R_1 = gamma*I1 #+ zeta21*gamma*I2 # note migrated population people also recover\n",
    "    Birth_1 = mu*N1\n",
    "    NatI_1 = (mu-omega)*I1#+(mu-omega)*zeta21*gamma*I1\n",
    "    NatS_1 = mu*S1\n",
    "    NatR_1 = mu*R1\n",
    "#------------City 2----------------------------------\n",
    "    S2I_2 = beta*S2*I2 + zeta12*beta*S2*I1\n",
    "    I2R_2 = gamma*I2+ zeta12*gamma*I1\n",
    "    Birth_2 = mu*N2\n",
    "    NatI_2  = (mu-omega)*I2#+(mu-omega)*zeta21*gamma*I1\n",
    "    NatS_2  = mu*S2\n",
    "    NatR_2  = mu*R2\n",
    "#------------------------------------------------------------------\n",
    "    \n",
    "    K=S2I_1+I2R_1+Birth_1+NatI_1+NatS_1+NatR_1 + S2I_2+I2R_2+Birth_2+NatI_2+NatS_2+NatR_2\n",
    "    \n",
    "    dt=-(1.0/K)*numpy.log(random.random())\n",
    "    \n",
    "    t = t + dt\n",
    "    count = count + 1\n",
    "    \n",
    "    r= random.random()*K\n",
    "    \n",
    "    if r<S2I_1:\n",
    "        S1 = S1-1\n",
    "        I1 = I1 +1\n",
    "    elif r< S2I_1+I2R_1:\n",
    "        I1 = I1 - 1\n",
    "        R1 = R1 +1\n",
    "    elif r< S2I_1+I2R_1+Birth_1:\n",
    "        S1 = S1 +1\n",
    "    elif r<S2I_1+I2R_1+Birth_1+NatI_1:\n",
    "        I1 = I1 -1\n",
    "    elif r<S2I_1+I2R_1+Birth_1+NatI_1+NatS_1:\n",
    "        S1 = S1 -1\n",
    "    elif r<S2I_1+I2R_1+Birth_1+NatI_1+NatS_1+NatR_1:\n",
    "        R1 = R1 -1\n",
    "    elif r<S2I_1+I2R_1+Birth_1+NatI_1+NatS_1+NatR_1+S2I_2:\n",
    "        S2 = S2-1\n",
    "        I2 = I2 +1\n",
    "    elif r<S2I_1+I2R_1+Birth_1+NatI_1+NatS_1+NatR_1+S2I_2+S2I_2+I2R_2:\n",
    "        I2 = I2 - 1\n",
    "        R2 = R2 +1\n",
    "    elif r<S2I_1+I2R_1+Birth_1+NatI_1+NatS_1+NatR_1+S2I_2+S2I_2+I2R_2 +S2I_2+I2R_2+Birth_2:\n",
    "        S2 = S2 +1\n",
    "    elif r<S2I_1+I2R_1+Birth_1+NatI_1+NatS_1+NatR_1+S2I_2+S2I_2+I2R_2 +S2I_2+I2R_2+Birth_2 +S2I_2+I2R_2+Birth_2+NatI_2:\n",
    "        I2 = I2 -1\n",
    "    elif r<S2I_1+I2R_1+Birth_1+NatI_1+NatS_1+NatR_1+S2I_2+S2I_2+I2R_2 +S2I_2+I2R_2+Birth_2 +S2I_2+I2R_2+Birth_2+NatI_2 +S2I_2+I2R_2+Birth_2+NatI_2+NatS_2:\n",
    "        S2 = S2 -1\n",
    "    elif r<S2I_1+I2R_1+Birth_1+NatI_1+NatS_1+NatR_1+S2I_2+S2I_2+I2R_2 +S2I_2+I2R_2+Birth_2 +S2I_2+I2R_2+Birth_2+NatI_2 +S2I_2+I2R_2+Birth_2+NatI_2+NatS_2 +S2I_2+I2R_2+Birth_2+NatI_2+NatS_2+NatR_2:\n",
    "        R2 = R2 -1\n",
    "    \n",
    "    TVal[count]=t\n",
    "    S1Val[count]=S1\n",
    "    I1Val[count]=I1\n",
    "    R1Val[count]=R1\n",
    "    S2Val[count]=S2\n",
    "    I2Val[count]=I2\n",
    "    R2Val[count]=R2\n",
    "print count\n",
    "TVal=TVal[:count+1]\n",
    "S1Val=S1Val[:count+1]\n",
    "I1Val=I1Val[:count+1]\n",
    "R1Val=R1Val[:count+1]\n",
    "S2Val=S2Val[:count+1]\n",
    "I2Val=I2Val[:count+1]\n",
    "R2Val=R2Val[:count+1]\n",
    "\n",
    "fig,ax = plt.subplots()\n",
    "ax.plot(TVal,S1Val,'b-',label='S1')\n",
    "ax.plot(TVal,I1Val,'r-',label='I1')\n",
    "ax.plot(TVal,S2Val,'g-',label='S2')\n",
    "ax.plot(TVal,I2Val,'y-',label='I2')\n",
    "ax.set_xlabel('time')\n",
    "ax.legend(loc='best')\n",
    "plt.show()\n",
    "    "
   ]
  },
  {
   "cell_type": "code",
   "execution_count": null,
   "metadata": {
    "collapsed": true
   },
   "outputs": [],
   "source": []
  },
  {
   "cell_type": "code",
   "execution_count": null,
   "metadata": {
    "collapsed": true
   },
   "outputs": [],
   "source": []
  }
 ],
 "metadata": {
  "kernelspec": {
   "display_name": "Python 2",
   "language": "python",
   "name": "python2"
  },
  "language_info": {
   "codemirror_mode": {
    "name": "ipython",
    "version": 2
   },
   "file_extension": ".py",
   "mimetype": "text/x-python",
   "name": "python",
   "nbconvert_exporter": "python",
   "pygments_lexer": "ipython2",
   "version": "2.7.9"
  }
 },
 "nbformat": 4,
 "nbformat_minor": 0
}
